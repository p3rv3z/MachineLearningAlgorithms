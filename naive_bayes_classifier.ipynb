{
 "cells": [
  {
   "cell_type": "markdown",
   "id": "fa56bf40",
   "metadata": {},
   "source": [
    "<h1>Naive Bayes Classifier<h1>"
   ]
  },
  {
   "cell_type": "code",
   "execution_count": 64,
   "id": "42ca3dd0",
   "metadata": {},
   "outputs": [],
   "source": [
    "import pandas as pd\n",
    "from sklearn.model_selection import train_test_split\n",
    "from sklearn.pipeline import Pipeline\n",
    "from sklearn.feature_extraction.text import CountVectorizer\n",
    "from sklearn.naive_bayes import MultinomialNB"
   ]
  },
  {
   "cell_type": "code",
   "execution_count": 65,
   "id": "7edefcbe",
   "metadata": {},
   "outputs": [
    {
     "data": {
      "text/html": [
       "<div>\n",
       "<style scoped>\n",
       "    .dataframe tbody tr th:only-of-type {\n",
       "        vertical-align: middle;\n",
       "    }\n",
       "\n",
       "    .dataframe tbody tr th {\n",
       "        vertical-align: top;\n",
       "    }\n",
       "\n",
       "    .dataframe thead tr th {\n",
       "        text-align: left;\n",
       "    }\n",
       "\n",
       "    .dataframe thead tr:last-of-type th {\n",
       "        text-align: right;\n",
       "    }\n",
       "</style>\n",
       "<table border=\"1\" class=\"dataframe\">\n",
       "  <thead>\n",
       "    <tr>\n",
       "      <th></th>\n",
       "      <th colspan=\"4\" halign=\"left\">text</th>\n",
       "    </tr>\n",
       "    <tr>\n",
       "      <th></th>\n",
       "      <th>count</th>\n",
       "      <th>unique</th>\n",
       "      <th>top</th>\n",
       "      <th>freq</th>\n",
       "    </tr>\n",
       "    <tr>\n",
       "      <th>spam</th>\n",
       "      <th></th>\n",
       "      <th></th>\n",
       "      <th></th>\n",
       "      <th></th>\n",
       "    </tr>\n",
       "  </thead>\n",
       "  <tbody>\n",
       "    <tr>\n",
       "      <th>0</th>\n",
       "      <td>4360</td>\n",
       "      <td>4327</td>\n",
       "      <td>Subject: * special notification * aurora versi...</td>\n",
       "      <td>2</td>\n",
       "    </tr>\n",
       "    <tr>\n",
       "      <th>1</th>\n",
       "      <td>1368</td>\n",
       "      <td>1368</td>\n",
       "      <td>Subject: naturally irresistible your corporate...</td>\n",
       "      <td>1</td>\n",
       "    </tr>\n",
       "  </tbody>\n",
       "</table>\n",
       "</div>"
      ],
      "text/plain": [
       "      text                                                               \n",
       "     count unique                                                top freq\n",
       "spam                                                                     \n",
       "0     4360   4327  Subject: * special notification * aurora versi...    2\n",
       "1     1368   1368  Subject: naturally irresistible your corporate...    1"
      ]
     },
     "execution_count": 65,
     "metadata": {},
     "output_type": "execute_result"
    }
   ],
   "source": [
    "df = pd.read_csv('emails.csv')\n",
    "df.groupby('spam').describe()"
   ]
  },
  {
   "cell_type": "code",
   "execution_count": 66,
   "id": "ebea68b9",
   "metadata": {},
   "outputs": [],
   "source": [
    "# Spliting train and test datasets\n",
    "x_train, x_test, y_train, y_test = train_test_split(df.text, df.spam, test_size=0.2)"
   ]
  },
  {
   "cell_type": "code",
   "execution_count": 67,
   "id": "4722b6b3",
   "metadata": {},
   "outputs": [],
   "source": [
    "# using sklearn pipline\n",
    "clf = Pipeline([\n",
    "    ('vectorizer', CountVectorizer()),\n",
    "    ('nb', MultinomialNB())\n",
    "])"
   ]
  },
  {
   "cell_type": "code",
   "execution_count": 75,
   "id": "3b4ef03c",
   "metadata": {},
   "outputs": [
    {
     "data": {
      "text/plain": [
       "0.9921465968586387"
      ]
     },
     "execution_count": 75,
     "metadata": {},
     "output_type": "execute_result"
    }
   ],
   "source": [
    "# feeding train an test dataframes to RandomForestClassifier model \n",
    "clf.fit(x_train, y_train)\n",
    "# model score\n",
    "clf.score(x_test, y_test)"
   ]
  },
  {
   "cell_type": "code",
   "execution_count": 82,
   "id": "8e625032",
   "metadata": {},
   "outputs": [],
   "source": [
    "# test emails\n",
    "emails = [\n",
    "    \"Subject: Satisfaction Survey Summer 2021 Dear EDUVians\",\n",
    "    'Dear students Your Final Assessment is on  29.08.2021(Sunday) at 7:30 PM sharp. Total marks: 30. Length: 2hrs. Chapters: 4,5 from Google Classwork Tab,6 from book',\n",
    "    \"Hey jhon, iPhone 11 Giveaway - Chance to Win a Free iPhone 11 Pro\"\n",
    "]"
   ]
  },
  {
   "cell_type": "code",
   "execution_count": 83,
   "id": "95300485",
   "metadata": {},
   "outputs": [
    {
     "data": {
      "text/plain": [
       "array([0, 0, 1])"
      ]
     },
     "execution_count": 83,
     "metadata": {},
     "output_type": "execute_result"
    }
   ],
   "source": [
    "# Result - 1 for spam 0 for ham\n",
    "clf.predict(emails)"
   ]
  }
 ],
 "metadata": {
  "kernelspec": {
   "display_name": "Python 3 (ipykernel)",
   "language": "python",
   "name": "python3"
  },
  "language_info": {
   "codemirror_mode": {
    "name": "ipython",
    "version": 3
   },
   "file_extension": ".py",
   "mimetype": "text/x-python",
   "name": "python",
   "nbconvert_exporter": "python",
   "pygments_lexer": "ipython3",
   "version": "3.9.6"
  }
 },
 "nbformat": 4,
 "nbformat_minor": 5
}
